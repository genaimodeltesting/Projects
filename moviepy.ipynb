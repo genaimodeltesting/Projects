{
 "cells": [
  {
   "cell_type": "code",
   "execution_count": 1,
   "id": "f0941924-efa5-4a8b-8f63-2dad9edca7a5",
   "metadata": {},
   "outputs": [
    {
     "name": "stdout",
     "output_type": "stream",
     "text": [
      "Requirement already satisfied: moviepy in c:\\programdata\\anaconda3\\lib\\site-packages (1.0.3)\n",
      "Requirement already satisfied: decorator<5.0,>=4.0.2 in c:\\programdata\\anaconda3\\lib\\site-packages (from moviepy) (4.4.2)\n",
      "Requirement already satisfied: tqdm<5.0,>=4.11.2 in c:\\programdata\\anaconda3\\lib\\site-packages (from moviepy) (4.66.5)\n",
      "Requirement already satisfied: requests<3.0,>=2.8.1 in c:\\programdata\\anaconda3\\lib\\site-packages (from moviepy) (2.32.3)\n",
      "Requirement already satisfied: proglog<=1.0.0 in c:\\programdata\\anaconda3\\lib\\site-packages (from moviepy) (0.1.10)\n",
      "Requirement already satisfied: numpy>=1.17.3 in c:\\programdata\\anaconda3\\lib\\site-packages (from moviepy) (1.26.4)\n",
      "Requirement already satisfied: imageio<3.0,>=2.5 in c:\\programdata\\anaconda3\\lib\\site-packages (from moviepy) (2.33.1)\n",
      "Requirement already satisfied: imageio-ffmpeg>=0.2.0 in c:\\programdata\\anaconda3\\lib\\site-packages (from moviepy) (0.5.1)\n",
      "Requirement already satisfied: pillow>=8.3.2 in c:\\programdata\\anaconda3\\lib\\site-packages (from imageio<3.0,>=2.5->moviepy) (10.4.0)\n",
      "Requirement already satisfied: setuptools in c:\\programdata\\anaconda3\\lib\\site-packages (from imageio-ffmpeg>=0.2.0->moviepy) (75.1.0)\n",
      "Requirement already satisfied: charset-normalizer<4,>=2 in c:\\programdata\\anaconda3\\lib\\site-packages (from requests<3.0,>=2.8.1->moviepy) (3.3.2)\n",
      "Requirement already satisfied: idna<4,>=2.5 in c:\\programdata\\anaconda3\\lib\\site-packages (from requests<3.0,>=2.8.1->moviepy) (3.7)\n",
      "Requirement already satisfied: urllib3<3,>=1.21.1 in c:\\programdata\\anaconda3\\lib\\site-packages (from requests<3.0,>=2.8.1->moviepy) (2.2.3)\n",
      "Requirement already satisfied: certifi>=2017.4.17 in c:\\programdata\\anaconda3\\lib\\site-packages (from requests<3.0,>=2.8.1->moviepy) (2024.8.30)\n",
      "Requirement already satisfied: colorama in c:\\programdata\\anaconda3\\lib\\site-packages (from tqdm<5.0,>=4.11.2->moviepy) (0.4.6)\n",
      "Note: you may need to restart the kernel to use updated packages.\n"
     ]
    }
   ],
   "source": [
    "pip install moviepy"
   ]
  },
  {
   "cell_type": "code",
   "execution_count": 2,
   "id": "7cfd9eb4-f29a-4f56-a1c7-27a94148d0bd",
   "metadata": {},
   "outputs": [
    {
     "name": "stdout",
     "output_type": "stream",
     "text": [
      "Moviepy - Building video C:\\Users\\simil\\Videos\\obs recordings\\sped_up_video.mp4.\n",
      "MoviePy - Writing audio in sped_up_videoTEMP_MPY_wvf_snd.mp3\n"
     ]
    },
    {
     "name": "stderr",
     "output_type": "stream",
     "text": [
      "                                                                       \r"
     ]
    },
    {
     "name": "stdout",
     "output_type": "stream",
     "text": [
      "MoviePy - Done.\n",
      "Moviepy - Writing video C:\\Users\\simil\\Videos\\obs recordings\\sped_up_video.mp4\n",
      "\n"
     ]
    },
    {
     "name": "stderr",
     "output_type": "stream",
     "text": [
      "                                                                  \r"
     ]
    },
    {
     "name": "stdout",
     "output_type": "stream",
     "text": [
      "Moviepy - Done !\n",
      "Moviepy - video ready C:\\Users\\simil\\Videos\\obs recordings\\sped_up_video.mp4\n",
      "Original duration: 1808.43 seconds\n",
      "New duration: 602.81 seconds\n"
     ]
    }
   ],
   "source": [
    "from moviepy.editor import VideoFileClip\n",
    "\n",
    "def speed_up_video(input_file_path, output_file_path, speed_factor=3):\n",
    "    \"\"\"\n",
    "    Speeds up a video by the specified factor.\n",
    "\n",
    "    Args:\n",
    "        input_file_path (str): Path to the input video file.\n",
    "        output_file_path (str): Path to the output video file.\n",
    "        speed_factor (int, optional): Speed factor. Defaults to 3.\n",
    "    \"\"\"\n",
    "\n",
    "    # Load the video\n",
    "    video_clip = VideoFileClip(input_file_path)\n",
    "\n",
    "    # Speed up the video\n",
    "    new_clip = video_clip.speedx(speed_factor)\n",
    "\n",
    "    # Calculate the new duration\n",
    "    original_duration = video_clip.duration\n",
    "    new_duration = original_duration / speed_factor\n",
    "\n",
    "    # Write the sped-up video to a file\n",
    "    new_clip.write_videofile(output_file_path)\n",
    "\n",
    "    print(f\"Original duration: {original_duration:.2f} seconds\")\n",
    "    print(f\"New duration: {new_duration:.2f} seconds\")\n",
    "\n",
    "# Example usage:\n",
    "input_file = \"C:\\\\Users\\\\simil\\\\Videos\\\\obs recordings\\\\2024-11-10 20-03-15.mkv\"  # Replace with your video file path\n",
    "output_file = \"C:\\\\Users\\\\simil\\\\Videos\\\\obs recordings\\\\sped_up_video.mp4\"\n",
    "\n",
    "speed_up_video(input_file, output_file)"
   ]
  },
  {
   "cell_type": "code",
   "execution_count": null,
   "id": "b11161f0-f1c4-4752-9ff2-3dce5e64ae6d",
   "metadata": {},
   "outputs": [],
   "source": []
  }
 ],
 "metadata": {
  "kernelspec": {
   "display_name": "Python 3 (ipykernel)",
   "language": "python",
   "name": "python3"
  },
  "language_info": {
   "codemirror_mode": {
    "name": "ipython",
    "version": 3
   },
   "file_extension": ".py",
   "mimetype": "text/x-python",
   "name": "python",
   "nbconvert_exporter": "python",
   "pygments_lexer": "ipython3",
   "version": "3.12.7"
  }
 },
 "nbformat": 4,
 "nbformat_minor": 5
}
