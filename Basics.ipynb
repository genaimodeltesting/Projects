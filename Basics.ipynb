{
 "cells": [
  {
   "cell_type": "code",
   "execution_count": 294,
   "id": "580bb425-cb81-42c7-8eb4-5780a2b7fd38",
   "metadata": {},
   "outputs": [
    {
     "data": {
      "text/plain": [
       "2"
      ]
     },
     "execution_count": 294,
     "metadata": {},
     "output_type": "execute_result"
    }
   ],
   "source": [
    "1+1"
   ]
  },
  {
   "cell_type": "raw",
   "id": "91219fe4-f7a4-4a27-825e-7fc2b97c1f82",
   "metadata": {},
   "source": []
  },
  {
   "cell_type": "code",
   "execution_count": 4,
   "id": "56a1eab4-6138-4ce1-a0af-5285360d8224",
   "metadata": {},
   "outputs": [
    {
     "data": {
      "text/plain": [
       "int"
      ]
     },
     "execution_count": 4,
     "metadata": {},
     "output_type": "execute_result"
    }
   ],
   "source": [
    "type(1)"
   ]
  },
  {
   "cell_type": "code",
   "execution_count": 276,
   "id": "14ea0d75-974b-48be-b45d-f55287898e62",
   "metadata": {},
   "outputs": [
    {
     "data": {
      "text/plain": [
       "str"
      ]
     },
     "execution_count": 276,
     "metadata": {},
     "output_type": "execute_result"
    }
   ],
   "source": [
    "type(\"Hello\")"
   ]
  },
  {
   "cell_type": "code",
   "execution_count": 278,
   "id": "1333871f-62c2-43d5-bb42-c3822f54947c",
   "metadata": {},
   "outputs": [],
   "source": [
    "#Strings"
   ]
  },
  {
   "cell_type": "code",
   "execution_count": 280,
   "id": "09352f45-9d86-43d2-92eb-131737a96e1d",
   "metadata": {},
   "outputs": [
    {
     "data": {
      "text/plain": [
       "'Hello'"
      ]
     },
     "execution_count": 280,
     "metadata": {},
     "output_type": "execute_result"
    }
   ],
   "source": [
    "\"Hello\"\n"
   ]
  },
  {
   "cell_type": "code",
   "execution_count": 16,
   "id": "1eb00fc0-d82e-4de4-89f1-87a0a203c0bb",
   "metadata": {},
   "outputs": [],
   "source": [
    "#Variable assignment"
   ]
  },
  {
   "cell_type": "code",
   "execution_count": 20,
   "id": "c6859e4a-91d9-49ec-b1e2-90a700325a2e",
   "metadata": {},
   "outputs": [
    {
     "data": {
      "text/plain": [
       "int"
      ]
     },
     "execution_count": 20,
     "metadata": {},
     "output_type": "execute_result"
    }
   ],
   "source": [
    "a=10\n",
    "type(a)"
   ]
  },
  {
   "cell_type": "code",
   "execution_count": 24,
   "id": "b43070ec-78cf-46bd-8943-86e81083ec60",
   "metadata": {},
   "outputs": [],
   "source": [
    "## Mathematical Operations"
   ]
  },
  {
   "cell_type": "code",
   "execution_count": 282,
   "id": "3cbfcf31-d00b-4f6b-98be-69fabcf66758",
   "metadata": {},
   "outputs": [
    {
     "name": "stdout",
     "output_type": "stream",
     "text": [
      "5.0\n"
     ]
    }
   ],
   "source": [
    "print(a/2)"
   ]
  },
  {
   "cell_type": "code",
   "execution_count": 32,
   "id": "fe1d8ca3-8ed4-4aa8-8c25-acfb26dff253",
   "metadata": {},
   "outputs": [],
   "source": [
    "#Press shift+tab after function to know it's details "
   ]
  },
  {
   "cell_type": "code",
   "execution_count": 48,
   "id": "fa9aabb7-1f1c-425d-8805-930f6e277ca1",
   "metadata": {},
   "outputs": [],
   "source": [
    "##Various ways of printing {Print formatting)"
   ]
  },
  {
   "cell_type": "code",
   "execution_count": 284,
   "id": "375ef837-6682-43d8-8949-4ae2a3afd0f8",
   "metadata": {},
   "outputs": [
    {
     "name": "stdout",
     "output_type": "stream",
     "text": [
      "Hello\n"
     ]
    }
   ],
   "source": [
    "print(\"Hello\")"
   ]
  },
  {
   "cell_type": "code",
   "execution_count": 286,
   "id": "abc819be-cb1d-47e9-8ae6-01de2ebd5a08",
   "metadata": {},
   "outputs": [],
   "source": [
    "first_name=\"Nika\""
   ]
  },
  {
   "cell_type": "code",
   "execution_count": 288,
   "id": "94f8c096-09ec-4c4a-b5a8-1bd4709f8075",
   "metadata": {},
   "outputs": [],
   "source": [
    "last_name=\"AI\""
   ]
  },
  {
   "cell_type": "code",
   "execution_count": 290,
   "id": "7f60a04b-6bea-4a73-9b6f-068ae40c1edc",
   "metadata": {},
   "outputs": [
    {
     "name": "stdout",
     "output_type": "stream",
     "text": [
      "My first name is Nika and last name is AI \n"
     ]
    }
   ],
   "source": [
    "print(\"My first name is {} and last name is {} \".format(first_name,last_name))"
   ]
  },
  {
   "cell_type": "code",
   "execution_count": 292,
   "id": "d2e0fced-8089-41ac-b007-c88fef73d051",
   "metadata": {},
   "outputs": [
    {
     "name": "stdout",
     "output_type": "stream",
     "text": [
      "My first name is Nika and last name is AI\n"
     ]
    }
   ],
   "source": [
    "print(\"My first name is {first} and last name is {last}\".format(first=first_name,last=last_name))"
   ]
  },
  {
   "cell_type": "code",
   "execution_count": 50,
   "id": "16c5ac2d-ea87-46ec-a159-f39aa094af09",
   "metadata": {},
   "outputs": [
    {
     "data": {
      "text/plain": [
       "4"
      ]
     },
     "execution_count": 50,
     "metadata": {},
     "output_type": "execute_result"
    }
   ],
   "source": [
    "len(\"Nika\")"
   ]
  },
  {
   "cell_type": "code",
   "execution_count": 52,
   "id": "ae1b533b-af3b-47f5-86fd-1219132a5ace",
   "metadata": {},
   "outputs": [],
   "source": [
    "#2. Python list and boolean variables"
   ]
  },
  {
   "cell_type": "code",
   "execution_count": 54,
   "id": "1e632da6-0cee-40d2-9301-d699e8662a77",
   "metadata": {},
   "outputs": [],
   "source": [
    "#Boolean Variables"
   ]
  },
  {
   "cell_type": "code",
   "execution_count": 296,
   "id": "06d6f4d0-b24a-4f12-9bb3-ef6d9856115f",
   "metadata": {},
   "outputs": [
    {
     "name": "stdout",
     "output_type": "stream",
     "text": [
      "True False\n"
     ]
    }
   ],
   "source": [
    "print(True,False)"
   ]
  },
  {
   "cell_type": "code",
   "execution_count": 298,
   "id": "8c8a8b0c-17db-465e-9c55-34bcc23282bd",
   "metadata": {},
   "outputs": [
    {
     "data": {
      "text/plain": [
       "bool"
      ]
     },
     "execution_count": 298,
     "metadata": {},
     "output_type": "execute_result"
    }
   ],
   "source": [
    "type(True)"
   ]
  },
  {
   "cell_type": "code",
   "execution_count": 300,
   "id": "ec3e6cb4-5c33-4d4b-a40d-fb1a5c4faabf",
   "metadata": {},
   "outputs": [
    {
     "data": {
      "text/plain": [
       "bool"
      ]
     },
     "execution_count": 300,
     "metadata": {},
     "output_type": "execute_result"
    }
   ],
   "source": [
    "type(False)"
   ]
  },
  {
   "cell_type": "code",
   "execution_count": 306,
   "id": "639d837c-162e-4abb-9226-7b041a82e5fd",
   "metadata": {},
   "outputs": [],
   "source": [
    "my_str=\"Nika123\""
   ]
  },
  {
   "cell_type": "code",
   "execution_count": 304,
   "id": "105fb404-db7c-4a53-8051-ea96ee997b81",
   "metadata": {},
   "outputs": [
    {
     "name": "stdout",
     "output_type": "stream",
     "text": [
      "True\n"
     ]
    }
   ],
   "source": [
    "print(my_str.isalnum())"
   ]
  },
  {
   "cell_type": "code",
   "execution_count": 310,
   "id": "1e2a348e-7832-4441-953d-e83b8313a0e4",
   "metadata": {},
   "outputs": [
    {
     "name": "stdout",
     "output_type": "stream",
     "text": [
      "False\n",
      "False\n",
      "True\n",
      "False\n",
      "False\n",
      "False\n",
      "True\n",
      "True\n",
      "NIKA123\n"
     ]
    }
   ],
   "source": [
    "print(my_str.isalpha())\n",
    "print(my_str.isdigit())\n",
    "print(my_str.istitle())\n",
    "print(my_str.isupper())\n",
    "print(my_str.islower())\n",
    "print(my_str.isspace())\n",
    "print(my_str.endswith('3'))\n",
    "print(my_str.startswith('N'))\n",
    "print(my_str.upper())"
   ]
  },
  {
   "cell_type": "code",
   "execution_count": 76,
   "id": "ccd2c2f1-cbb2-449e-bb88-276f60068506",
   "metadata": {},
   "outputs": [],
   "source": [
    "#Boolean and logical operators"
   ]
  },
  {
   "cell_type": "code",
   "execution_count": 312,
   "id": "218e1a1c-9338-4a1e-aedb-2fc844c2c179",
   "metadata": {},
   "outputs": [
    {
     "data": {
      "text/plain": [
       "True"
      ]
     },
     "execution_count": 312,
     "metadata": {},
     "output_type": "execute_result"
    }
   ],
   "source": [
    "True and True"
   ]
  },
  {
   "cell_type": "code",
   "execution_count": 314,
   "id": "1dcf2409-fbf1-47e1-899d-021d95acb2e4",
   "metadata": {},
   "outputs": [
    {
     "data": {
      "text/plain": [
       "False"
      ]
     },
     "execution_count": 314,
     "metadata": {},
     "output_type": "execute_result"
    }
   ],
   "source": [
    "True and False"
   ]
  },
  {
   "cell_type": "code",
   "execution_count": 316,
   "id": "097339b5-d5f7-4b31-85aa-f98ebcfdafba",
   "metadata": {},
   "outputs": [
    {
     "data": {
      "text/plain": [
       "True"
      ]
     },
     "execution_count": 316,
     "metadata": {},
     "output_type": "execute_result"
    }
   ],
   "source": [
    "True or False"
   ]
  },
  {
   "cell_type": "code",
   "execution_count": 318,
   "id": "eabf813f-9eb0-4ff3-8f7e-46af39c3261a",
   "metadata": {},
   "outputs": [
    {
     "data": {
      "text/plain": [
       "True"
      ]
     },
     "execution_count": 318,
     "metadata": {},
     "output_type": "execute_result"
    }
   ],
   "source": [
    "True or True"
   ]
  },
  {
   "cell_type": "code",
   "execution_count": 320,
   "id": "8bd6f2eb-573e-4d26-bb14-a2dc8f590e35",
   "metadata": {},
   "outputs": [
    {
     "data": {
      "text/plain": [
       "' A list is a data strcuture in python that is mutable or changeable, ordered sequence of elements. Each element or value that is inside of a list is called an item.\\nJust as strings are defined as characters between quotes, list are defined by having values between square brackets []'"
      ]
     },
     "execution_count": 320,
     "metadata": {},
     "output_type": "execute_result"
    }
   ],
   "source": [
    "## List\n",
    "\"\"\" A list is a data strcuture in python that is mutable or changeable, ordered sequence of elements. Each element or value that is inside of a list is called an item.\n",
    "Just as strings are defined as characters between quotes, list are defined by having values between square brackets []\"\"\""
   ]
  },
  {
   "cell_type": "code",
   "execution_count": 322,
   "id": "0b08b86c-ecc1-4dc3-b3d2-c7fbd08eeea7",
   "metadata": {},
   "outputs": [],
   "source": [
    "list_example=[]"
   ]
  },
  {
   "cell_type": "code",
   "execution_count": 324,
   "id": "6555dca9-81e7-4b21-9429-82fae3ff66d8",
   "metadata": {},
   "outputs": [
    {
     "data": {
      "text/plain": [
       "list"
      ]
     },
     "execution_count": 324,
     "metadata": {},
     "output_type": "execute_result"
    }
   ],
   "source": [
    "type(list_example)"
   ]
  },
  {
   "cell_type": "code",
   "execution_count": 326,
   "id": "3c464317-9fd1-4f46-beea-6131fc5394a4",
   "metadata": {},
   "outputs": [],
   "source": [
    "lst=list() #in-built function"
   ]
  },
  {
   "cell_type": "code",
   "execution_count": 328,
   "id": "d2d9c3b2-d66d-4031-83d1-c4be1c832d3b",
   "metadata": {},
   "outputs": [
    {
     "data": {
      "text/plain": [
       "list"
      ]
     },
     "execution_count": 328,
     "metadata": {},
     "output_type": "execute_result"
    }
   ],
   "source": [
    "type(lst)"
   ]
  },
  {
   "cell_type": "code",
   "execution_count": 330,
   "id": "80f7b4cb-c184-408f-84d8-6d4839c8b483",
   "metadata": {},
   "outputs": [],
   "source": [
    "lst=['Math','chemistry',100,200]"
   ]
  },
  {
   "cell_type": "code",
   "execution_count": 332,
   "id": "5eb2ec22-db10-42d2-9777-2fe1fa9296b4",
   "metadata": {},
   "outputs": [
    {
     "data": {
      "text/plain": [
       "['Math', 'chemistry', 100, 200]"
      ]
     },
     "execution_count": 332,
     "metadata": {},
     "output_type": "execute_result"
    }
   ],
   "source": [
    "lst"
   ]
  },
  {
   "cell_type": "code",
   "execution_count": 334,
   "id": "8026dbba-13f8-4095-a0ba-c43abf036a85",
   "metadata": {},
   "outputs": [
    {
     "data": {
      "text/plain": [
       "4"
      ]
     },
     "execution_count": 334,
     "metadata": {},
     "output_type": "execute_result"
    }
   ],
   "source": [
    "len(lst)"
   ]
  },
  {
   "cell_type": "code",
   "execution_count": 336,
   "id": "2e34540b-2466-4943-ba4c-b312c2105912",
   "metadata": {},
   "outputs": [],
   "source": [
    "#Append - add element in the end of the list"
   ]
  },
  {
   "cell_type": "code",
   "execution_count": 338,
   "id": "681edf54-42fe-416c-b7b8-e069762f37c7",
   "metadata": {},
   "outputs": [],
   "source": [
    "lst.append('Nika')"
   ]
  },
  {
   "cell_type": "code",
   "execution_count": 340,
   "id": "1b3f83a6-6228-4675-9a77-90baec8b0799",
   "metadata": {},
   "outputs": [
    {
     "data": {
      "text/plain": [
       "['Math', 'chemistry', 100, 200, 'Nika']"
      ]
     },
     "execution_count": 340,
     "metadata": {},
     "output_type": "execute_result"
    }
   ],
   "source": [
    "lst"
   ]
  },
  {
   "cell_type": "code",
   "execution_count": 344,
   "id": "ea6561c7-5de1-4c65-9770-42d6d6c1d86f",
   "metadata": {},
   "outputs": [
    {
     "data": {
      "text/plain": [
       "100"
      ]
     },
     "execution_count": 344,
     "metadata": {},
     "output_type": "execute_result"
    }
   ],
   "source": [
    "#Indexing in list\n",
    "lst[2]"
   ]
  },
  {
   "cell_type": "code",
   "execution_count": 346,
   "id": "f6809f12-ee02-44ba-8ce6-a7aa2d06dcfc",
   "metadata": {},
   "outputs": [],
   "source": [
    "lst.insert(1,'AI')"
   ]
  },
  {
   "cell_type": "code",
   "execution_count": 348,
   "id": "c5359f2f-ef93-47db-aa95-6fc1acf15e18",
   "metadata": {},
   "outputs": [
    {
     "data": {
      "text/plain": [
       "['Math', 'AI', 'chemistry', 100, 200, 'Nika']"
      ]
     },
     "execution_count": 348,
     "metadata": {},
     "output_type": "execute_result"
    }
   ],
   "source": [
    "lst"
   ]
  },
  {
   "cell_type": "code",
   "execution_count": 350,
   "id": "587461b9-1680-4cd3-aa01-5039b208fbd6",
   "metadata": {},
   "outputs": [],
   "source": [
    "#Extend Method"
   ]
  },
  {
   "cell_type": "code",
   "execution_count": 352,
   "id": "7720bd06-e966-42c2-8cf8-b4de44c84adf",
   "metadata": {},
   "outputs": [],
   "source": [
    "lst.extend([8,9])"
   ]
  },
  {
   "cell_type": "code",
   "execution_count": 354,
   "id": "b102f647-a28f-4dcf-9430-b93be1ebd99e",
   "metadata": {},
   "outputs": [
    {
     "data": {
      "text/plain": [
       "['Math', 'AI', 'chemistry', 100, 200, 'Nika', 8, 9]"
      ]
     },
     "execution_count": 354,
     "metadata": {},
     "output_type": "execute_result"
    }
   ],
   "source": [
    "lst"
   ]
  },
  {
   "cell_type": "code",
   "execution_count": 356,
   "id": "d2cc90f1-5653-4713-bd95-addc35dbaa06",
   "metadata": {},
   "outputs": [
    {
     "data": {
      "text/plain": [
       "9"
      ]
     },
     "execution_count": 356,
     "metadata": {},
     "output_type": "execute_result"
    }
   ],
   "source": [
    "lst.pop()"
   ]
  },
  {
   "cell_type": "code",
   "execution_count": 358,
   "id": "00cb5b26-8f48-452d-8c2c-d30e5e5af7d4",
   "metadata": {},
   "outputs": [
    {
     "data": {
      "text/plain": [
       "['Math', 'AI', 'chemistry', 100, 200, 'Nika', 8]"
      ]
     },
     "execution_count": 358,
     "metadata": {},
     "output_type": "execute_result"
    }
   ],
   "source": [
    "lst"
   ]
  },
  {
   "cell_type": "code",
   "execution_count": 360,
   "id": "bea1abec-0c55-4a7d-8297-5a26909e0c54",
   "metadata": {},
   "outputs": [],
   "source": [
    "lst=[1,1,2,3,4,5]"
   ]
  },
  {
   "cell_type": "code",
   "execution_count": 362,
   "id": "e43b50b9-6c5c-4aa3-9c81-c4668bb9e9d2",
   "metadata": {},
   "outputs": [
    {
     "data": {
      "text/plain": [
       "2"
      ]
     },
     "execution_count": 362,
     "metadata": {},
     "output_type": "execute_result"
    }
   ],
   "source": [
    "lst.count(1)"
   ]
  },
  {
   "cell_type": "code",
   "execution_count": 372,
   "id": "29dda726-1672-46e7-9437-15de86bf8b9e",
   "metadata": {},
   "outputs": [
    {
     "data": {
      "text/plain": [
       "1"
      ]
     },
     "execution_count": 372,
     "metadata": {},
     "output_type": "execute_result"
    }
   ],
   "source": [
    "#index : returns the index of first occurence. start and end index are not necessary parameters\n",
    "lst.index(1,1,4)"
   ]
  },
  {
   "cell_type": "code",
   "execution_count": 138,
   "id": "ac35e8dd-6d5f-45e6-ad45-37ed670cccc2",
   "metadata": {},
   "outputs": [],
   "source": [
    "#press alt+enter - to run code and move the cursor to the next line"
   ]
  },
  {
   "cell_type": "code",
   "execution_count": 374,
   "id": "7f07d6f4-79c7-4725-b0c0-2a734462dffb",
   "metadata": {},
   "outputs": [
    {
     "data": {
      "text/plain": [
       "[1,\n",
       " 1,\n",
       " 2,\n",
       " 3,\n",
       " 4,\n",
       " 5,\n",
       " 1,\n",
       " 1,\n",
       " 2,\n",
       " 3,\n",
       " 4,\n",
       " 5,\n",
       " 1,\n",
       " 1,\n",
       " 2,\n",
       " 3,\n",
       " 4,\n",
       " 5,\n",
       " 1,\n",
       " 1,\n",
       " 2,\n",
       " 3,\n",
       " 4,\n",
       " 5,\n",
       " 1,\n",
       " 1,\n",
       " 2,\n",
       " 3,\n",
       " 4,\n",
       " 5]"
      ]
     },
     "execution_count": 374,
     "metadata": {},
     "output_type": "execute_result"
    }
   ],
   "source": [
    "lst*5"
   ]
  },
  {
   "cell_type": "code",
   "execution_count": 376,
   "id": "e0de6cb6-a658-475f-a0e8-8bd753869bb6",
   "metadata": {},
   "outputs": [
    {
     "data": {
      "text/plain": [
       "1"
      ]
     },
     "execution_count": 376,
     "metadata": {},
     "output_type": "execute_result"
    }
   ],
   "source": [
    "min(lst)"
   ]
  },
  {
   "cell_type": "code",
   "execution_count": 378,
   "id": "f755cd0c-3eb8-4bbf-827c-a53cac37f19b",
   "metadata": {},
   "outputs": [
    {
     "data": {
      "text/plain": [
       "5"
      ]
     },
     "execution_count": 378,
     "metadata": {},
     "output_type": "execute_result"
    }
   ],
   "source": [
    "max(lst)"
   ]
  },
  {
   "cell_type": "code",
   "execution_count": 380,
   "id": "ff4f830d-27ec-4e16-ba93-b59885dc5061",
   "metadata": {},
   "outputs": [
    {
     "data": {
      "text/plain": [
       "\" A set is an unordered collection data type that is iterable, mutable, and has no duplicate elements. Python's set class represents the\\n mathematical  notion of a set. This is based on data strcuture known as hash table\""
      ]
     },
     "execution_count": 380,
     "metadata": {},
     "output_type": "execute_result"
    }
   ],
   "source": [
    "#SETS \n",
    "\"\"\" A set is an unordered collection data type that is iterable, mutable, and has no duplicate elements. Python's set class represents the\n",
    " mathematical  notion of a set. This is based on data strcuture known as hash table\"\"\""
   ]
  },
  {
   "cell_type": "code",
   "execution_count": 382,
   "id": "e3ac07a4-40f5-45dc-bee1-77ab36248069",
   "metadata": {},
   "outputs": [
    {
     "name": "stdout",
     "output_type": "stream",
     "text": [
      "set()\n",
      "<class 'set'>\n"
     ]
    }
   ],
   "source": [
    "#Defining an empty set\n",
    "set_var = set()\n",
    "print(set_var)\n",
    "print(type(set_var))"
   ]
  },
  {
   "cell_type": "code",
   "execution_count": 384,
   "id": "da327567-5805-4392-bd84-7f9a8257a9ce",
   "metadata": {},
   "outputs": [],
   "source": [
    "set_var={1,2,3,4,3,5} #Automatically remove duplicate elements"
   ]
  },
  {
   "cell_type": "code",
   "execution_count": 386,
   "id": "19b144f5-9949-4063-a289-0118e2a5cc81",
   "metadata": {},
   "outputs": [
    {
     "data": {
      "text/plain": [
       "{1, 2, 3, 4, 5}"
      ]
     },
     "execution_count": 386,
     "metadata": {},
     "output_type": "execute_result"
    }
   ],
   "source": [
    "set_var"
   ]
  },
  {
   "cell_type": "code",
   "execution_count": 390,
   "id": "88f62d76-e288-4b2e-883e-6253cb56d220",
   "metadata": {},
   "outputs": [
    {
     "ename": "TypeError",
     "evalue": "'set' object is not subscriptable",
     "output_type": "error",
     "traceback": [
      "\u001b[1;31m---------------------------------------------------------------------------\u001b[0m",
      "\u001b[1;31mTypeError\u001b[0m                                 Traceback (most recent call last)",
      "Cell \u001b[1;32mIn[390], line 1\u001b[0m\n\u001b[1;32m----> 1\u001b[0m set_var[\u001b[38;5;241m0\u001b[39m]\n",
      "\u001b[1;31mTypeError\u001b[0m: 'set' object is not subscriptable"
     ]
    }
   ],
   "source": [
    "# set_var[0] #set doesn't support indexing will give error - 'set' object is not callable"
   ]
  },
  {
   "cell_type": "code",
   "execution_count": 394,
   "id": "a2704202-7339-41db-988e-e8b9c7e0a8e8",
   "metadata": {},
   "outputs": [
    {
     "data": {
      "text/plain": [
       "{5}"
      ]
     },
     "execution_count": 394,
     "metadata": {},
     "output_type": "execute_result"
    }
   ],
   "source": [
    "set1={1,2,3,4}\n",
    "set2={1,2,3,4,5}\n",
    "set2.difference(set1) #it will remove common element from both the set"
   ]
  },
  {
   "cell_type": "code",
   "execution_count": 396,
   "id": "adee1dfa-4567-4aeb-8722-c31ce9250b14",
   "metadata": {},
   "outputs": [
    {
     "name": "stdout",
     "output_type": "stream",
     "text": [
      "{5}\n"
     ]
    }
   ],
   "source": [
    "## Difference update\n",
    "set2.difference_update(set1)\n",
    "print(set2)"
   ]
  },
  {
   "cell_type": "code",
   "execution_count": 398,
   "id": "bc8312bd-73cc-42d2-8999-99cb5f1ea70b",
   "metadata": {},
   "outputs": [
    {
     "data": {
      "text/plain": [
       "{5}"
      ]
     },
     "execution_count": 398,
     "metadata": {},
     "output_type": "execute_result"
    }
   ],
   "source": [
    "set2"
   ]
  },
  {
   "cell_type": "code",
   "execution_count": 400,
   "id": "95c0df5e-14c6-4251-89af-a72783ca3e82",
   "metadata": {},
   "outputs": [
    {
     "data": {
      "text/plain": [
       "{1, 2, 3, 4}"
      ]
     },
     "execution_count": 400,
     "metadata": {},
     "output_type": "execute_result"
    }
   ],
   "source": [
    "set1={1,2,3,4}\n",
    "set2={1,2,3,4,5}\n",
    "set2.intersection_update(set1) #it will give the common elements as well as save it in set2\n",
    "set2"
   ]
  },
  {
   "cell_type": "code",
   "execution_count": 198,
   "id": "87d9cdee-b608-4d93-a6ad-b6e81ec7b786",
   "metadata": {},
   "outputs": [
    {
     "data": {
      "text/plain": [
       "{1, 2, 3, 4}"
      ]
     },
     "execution_count": 198,
     "metadata": {},
     "output_type": "execute_result"
    }
   ],
   "source": [
    "set2"
   ]
  },
  {
   "cell_type": "code",
   "execution_count": 402,
   "id": "7040df4f-064f-4de4-99ec-c9ab3c417f04",
   "metadata": {},
   "outputs": [
    {
     "data": {
      "text/plain": [
       "' A dictionary is a collection which is unordered, changeable and indexed. In Python dictionaries are written with\\n curly brackets, and they have keys  and values.'"
      ]
     },
     "execution_count": 402,
     "metadata": {},
     "output_type": "execute_result"
    }
   ],
   "source": [
    "## Dictionaries \n",
    "\"\"\" A dictionary is a collection which is unordered, changeable and indexed. In Python dictionaries are written with\n",
    " curly brackets, and they have keys  and values.\"\"\""
   ]
  },
  {
   "cell_type": "code",
   "execution_count": 404,
   "id": "8deeca64-e421-4b7f-8a80-f49c570f2e39",
   "metadata": {},
   "outputs": [
    {
     "data": {
      "text/plain": [
       "dict"
      ]
     },
     "execution_count": 404,
     "metadata": {},
     "output_type": "execute_result"
    }
   ],
   "source": [
    "#in-built function - dict\n",
    "dict\n",
    "type(dict)"
   ]
  },
  {
   "cell_type": "code",
   "execution_count": 406,
   "id": "6be7b819-e1c7-47f4-bbd5-c2fa5dda9cdb",
   "metadata": {},
   "outputs": [
    {
     "name": "stdout",
     "output_type": "stream",
     "text": [
      "<class 'dict'>\n"
     ]
    },
    {
     "data": {
      "text/plain": [
       "{'car1': 'audi', 'car2': 'bmw', 'car3': 'mercedes'}"
      ]
     },
     "execution_count": 406,
     "metadata": {},
     "output_type": "execute_result"
    }
   ],
   "source": [
    "## let create a dictionary\n",
    "my_dict= {\"car1\":\"audi\",\"car2\":\"bmw\",\"car3\":\"mercedes\"}\n",
    "print(type(my_dict))\n",
    "my_dict"
   ]
  },
  {
   "cell_type": "code",
   "execution_count": 408,
   "id": "a367c7a7-cf58-4794-8b92-9ec49f2e59e4",
   "metadata": {},
   "outputs": [
    {
     "data": {
      "text/plain": [
       "'audi'"
      ]
     },
     "execution_count": 408,
     "metadata": {},
     "output_type": "execute_result"
    }
   ],
   "source": [
    "## Access the element values based on keys\n",
    "my_dict['car1'] #will give the value of key 'car1'"
   ]
  },
  {
   "cell_type": "code",
   "execution_count": 410,
   "id": "76b9c587-cf01-4c8c-82d8-c18a9fdd68c6",
   "metadata": {},
   "outputs": [
    {
     "name": "stdout",
     "output_type": "stream",
     "text": [
      "car1\n",
      "car2\n",
      "car3\n"
     ]
    }
   ],
   "source": [
    "## We can loop through the dictionary keys\n",
    "for x in my_dict:\n",
    "    print(x)"
   ]
  },
  {
   "cell_type": "code",
   "execution_count": 412,
   "id": "2bfa146b-4f2f-42df-97ae-8d9013329e10",
   "metadata": {},
   "outputs": [
    {
     "name": "stdout",
     "output_type": "stream",
     "text": [
      "audi\n",
      "bmw\n",
      "mercedes\n"
     ]
    }
   ],
   "source": [
    "## We can even loop through the dictionary values\n",
    "for x in my_dict.values():\n",
    "    print(x)"
   ]
  },
  {
   "cell_type": "code",
   "execution_count": 414,
   "id": "e71eb9f4-6279-4639-8bbf-211f602375cb",
   "metadata": {},
   "outputs": [
    {
     "name": "stdout",
     "output_type": "stream",
     "text": [
      "('car1', 'audi')\n",
      "('car2', 'bmw')\n",
      "('car3', 'mercedes')\n"
     ]
    }
   ],
   "source": [
    "## We can also check both keys and values\n",
    "for x in my_dict.items():\n",
    "    print(x)"
   ]
  },
  {
   "cell_type": "code",
   "execution_count": 416,
   "id": "95d8a7fb-3a10-4726-bbec-cf84f3e59c2b",
   "metadata": {},
   "outputs": [],
   "source": [
    "## Adding items in dictionaries\n",
    "my_dict['car4']='audi'"
   ]
  },
  {
   "cell_type": "code",
   "execution_count": 418,
   "id": "3be8482e-010b-4e81-a6a1-aadf3e24806d",
   "metadata": {},
   "outputs": [
    {
     "data": {
      "text/plain": [
       "{'car1': 'audi', 'car2': 'bmw', 'car3': 'mercedes', 'car4': 'audi'}"
      ]
     },
     "execution_count": 418,
     "metadata": {},
     "output_type": "execute_result"
    }
   ],
   "source": [
    "my_dict"
   ]
  },
  {
   "cell_type": "code",
   "execution_count": 420,
   "id": "948b3476-dd83-489e-8c93-4982982fa8d1",
   "metadata": {},
   "outputs": [
    {
     "name": "stdout",
     "output_type": "stream",
     "text": [
      "{'car1': {'mercedes': 1960}, 'car2': {'audi': 1970}, 'car3': {'ambassador': 1980}}\n"
     ]
    }
   ],
   "source": [
    "## Nested Dictionary\n",
    "\n",
    "car1_model={'mercedes':1960}\n",
    "car2_model={'audi':1970}\n",
    "car3_model={'ambassador':1980}\n",
    "car_type={'car1':car1_model,'car2':car2_model,'car3':car3_model}\n",
    "print(car_type)"
   ]
  },
  {
   "cell_type": "code",
   "execution_count": 268,
   "id": "629ab0c5-054b-4442-b452-086d814cfb08",
   "metadata": {},
   "outputs": [],
   "source": [
    "## Tuples - cannot change the elements of a tuple, error - tuple doesn't support item assignment\n",
    "## whole tuple can be replaced but an item cannot be replaced"
   ]
  },
  {
   "cell_type": "code",
   "execution_count": 262,
   "id": "600d4de6-a760-4d55-9510-ab14a586acf0",
   "metadata": {},
   "outputs": [],
   "source": [
    "## create an empty tuples\n",
    "my_tuple=tuple()"
   ]
  },
  {
   "cell_type": "code",
   "execution_count": 422,
   "id": "d889abdd-d8f0-47be-99b9-b4aab65bdad6",
   "metadata": {},
   "outputs": [
    {
     "data": {
      "text/plain": [
       "tuple"
      ]
     },
     "execution_count": 422,
     "metadata": {},
     "output_type": "execute_result"
    }
   ],
   "source": [
    "type(my_tuple)"
   ]
  },
  {
   "cell_type": "code",
   "execution_count": 424,
   "id": "e8dc00e0-d4b6-42a6-9f74-a04312000100",
   "metadata": {},
   "outputs": [
    {
     "name": "stdout",
     "output_type": "stream",
     "text": [
      "('apple', 'mango', 'banana')\n"
     ]
    },
    {
     "data": {
      "text/plain": [
       "'apple'"
      ]
     },
     "execution_count": 424,
     "metadata": {},
     "output_type": "execute_result"
    }
   ],
   "source": [
    "my_tuple=(\"apple\",\"mango\",\"banana\")\n",
    "print(my_tuple)\n",
    "my_tuple[0]"
   ]
  },
  {
   "cell_type": "code",
   "execution_count": null,
   "id": "4ec4bf75-3622-4e74-b6e5-2a3e45916aec",
   "metadata": {},
   "outputs": [],
   "source": []
  },
  {
   "cell_type": "code",
   "execution_count": null,
   "id": "14f24d92-23e5-472a-9701-06bc3f31e6e1",
   "metadata": {},
   "outputs": [],
   "source": []
  },
  {
   "cell_type": "code",
   "execution_count": null,
   "id": "6c5a0c19-fd17-49e4-9b27-6c8dccea37c8",
   "metadata": {},
   "outputs": [],
   "source": []
  },
  {
   "cell_type": "code",
   "execution_count": null,
   "id": "0338b366-66de-4bab-b298-4e84a2622a94",
   "metadata": {},
   "outputs": [],
   "source": []
  },
  {
   "cell_type": "code",
   "execution_count": null,
   "id": "512739b0-becf-4dd6-8d94-1898ed90e010",
   "metadata": {},
   "outputs": [],
   "source": []
  },
  {
   "cell_type": "code",
   "execution_count": null,
   "id": "b88b993b-2eae-4060-95bd-5ffca26c314b",
   "metadata": {},
   "outputs": [],
   "source": []
  },
  {
   "cell_type": "code",
   "execution_count": null,
   "id": "5d0f517a-bbfd-4fd8-9783-003dc37bfb11",
   "metadata": {},
   "outputs": [],
   "source": []
  },
  {
   "cell_type": "code",
   "execution_count": null,
   "id": "6620bd45-f02b-4488-8cbe-df9389056b35",
   "metadata": {},
   "outputs": [],
   "source": []
  },
  {
   "cell_type": "code",
   "execution_count": null,
   "id": "dfbfcfc6-9d94-4cb2-ab10-dc82c1c2f9e7",
   "metadata": {},
   "outputs": [],
   "source": []
  },
  {
   "cell_type": "code",
   "execution_count": null,
   "id": "a899d23d-d061-44c6-a786-ec8ee4901da8",
   "metadata": {},
   "outputs": [],
   "source": []
  },
  {
   "cell_type": "code",
   "execution_count": null,
   "id": "e761651d-1bbe-40bb-9ed7-1862eadb5517",
   "metadata": {},
   "outputs": [],
   "source": []
  },
  {
   "cell_type": "code",
   "execution_count": null,
   "id": "f722a254-3d15-442e-ad15-ab3e35950bbf",
   "metadata": {},
   "outputs": [],
   "source": []
  },
  {
   "cell_type": "code",
   "execution_count": null,
   "id": "0922c700-db3e-4102-ac06-be4c285b2577",
   "metadata": {},
   "outputs": [],
   "source": []
  },
  {
   "cell_type": "code",
   "execution_count": null,
   "id": "eb0bb981-8585-43b6-8ad2-5aabe6685308",
   "metadata": {},
   "outputs": [],
   "source": []
  },
  {
   "cell_type": "code",
   "execution_count": null,
   "id": "e072c709-05b1-40c8-be9b-bb1d498f3c6b",
   "metadata": {},
   "outputs": [],
   "source": []
  },
  {
   "cell_type": "code",
   "execution_count": null,
   "id": "dceacbcc-8c6d-478f-bc2f-37bc44f03c31",
   "metadata": {},
   "outputs": [],
   "source": []
  },
  {
   "cell_type": "code",
   "execution_count": null,
   "id": "481ab2d4-4546-4cd6-8c18-6de11ec36680",
   "metadata": {},
   "outputs": [],
   "source": []
  },
  {
   "cell_type": "code",
   "execution_count": null,
   "id": "20ca1df7-9126-4410-8cae-1093683ec352",
   "metadata": {},
   "outputs": [],
   "source": []
  },
  {
   "cell_type": "code",
   "execution_count": null,
   "id": "aa928312-703e-41c1-8d72-602a2af550a6",
   "metadata": {},
   "outputs": [],
   "source": []
  },
  {
   "cell_type": "code",
   "execution_count": null,
   "id": "b25885b2-fa91-49cb-8054-ef7df371f092",
   "metadata": {},
   "outputs": [],
   "source": []
  },
  {
   "cell_type": "code",
   "execution_count": null,
   "id": "c7ce8604-1e80-49cb-93f5-cea253a1f304",
   "metadata": {},
   "outputs": [],
   "source": []
  },
  {
   "cell_type": "code",
   "execution_count": null,
   "id": "65a40cbc-706d-4bb4-9d82-69d70f3f2514",
   "metadata": {},
   "outputs": [],
   "source": []
  },
  {
   "cell_type": "code",
   "execution_count": null,
   "id": "8300509d-3338-44f2-b734-2d8eefeab581",
   "metadata": {},
   "outputs": [],
   "source": []
  },
  {
   "cell_type": "code",
   "execution_count": null,
   "id": "217185bc-6076-401a-9f4c-03a3084a9251",
   "metadata": {},
   "outputs": [],
   "source": []
  },
  {
   "cell_type": "code",
   "execution_count": null,
   "id": "080c6a57-b0a0-4573-9e5c-0b014a1de09b",
   "metadata": {},
   "outputs": [],
   "source": []
  },
  {
   "cell_type": "code",
   "execution_count": null,
   "id": "d74f3695-5e7e-45ae-a4a0-ff4d87688632",
   "metadata": {},
   "outputs": [],
   "source": []
  },
  {
   "cell_type": "code",
   "execution_count": null,
   "id": "bb9f6540-66ed-42e1-ade6-679b377cbd5e",
   "metadata": {},
   "outputs": [],
   "source": []
  },
  {
   "cell_type": "code",
   "execution_count": null,
   "id": "a40d30cb-19ac-4824-b4a3-311561a6de2b",
   "metadata": {},
   "outputs": [],
   "source": []
  },
  {
   "cell_type": "code",
   "execution_count": null,
   "id": "821d4d27-7ecc-4499-9013-9a254c3b64f4",
   "metadata": {},
   "outputs": [],
   "source": []
  },
  {
   "cell_type": "code",
   "execution_count": null,
   "id": "1c12b924-6d52-4d53-ad63-d99c24925d21",
   "metadata": {},
   "outputs": [],
   "source": []
  },
  {
   "cell_type": "code",
   "execution_count": null,
   "id": "c9b1e5b9-e90d-4f70-8a76-5614212906c7",
   "metadata": {},
   "outputs": [],
   "source": []
  },
  {
   "cell_type": "code",
   "execution_count": null,
   "id": "d8bf5584-bec4-4434-85f4-2eeac2b9d378",
   "metadata": {},
   "outputs": [],
   "source": []
  },
  {
   "cell_type": "code",
   "execution_count": null,
   "id": "5b83ac57-d7c5-4dee-98d7-27ecc5a632af",
   "metadata": {},
   "outputs": [],
   "source": []
  }
 ],
 "metadata": {
  "kernelspec": {
   "display_name": "Python 3 (ipykernel)",
   "language": "python",
   "name": "python3"
  },
  "language_info": {
   "codemirror_mode": {
    "name": "ipython",
    "version": 3
   },
   "file_extension": ".py",
   "mimetype": "text/x-python",
   "name": "python",
   "nbconvert_exporter": "python",
   "pygments_lexer": "ipython3",
   "version": "3.12.7"
  }
 },
 "nbformat": 4,
 "nbformat_minor": 5
}
