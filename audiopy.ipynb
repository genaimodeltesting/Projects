{
 "cells": [
  {
   "cell_type": "code",
   "execution_count": 1,
   "id": "10530e72-9ed5-4adc-866e-5077fd38f1cd",
   "metadata": {},
   "outputs": [
    {
     "name": "stdout",
     "output_type": "stream",
     "text": [
      "Moviepy - Building video C:\\Users\\simil\\Videos\\obs recordings\\sped_up_video_with_audio.mp4.\n",
      "MoviePy - Writing audio in sped_up_video_with_audioTEMP_MPY_wvf_snd.mp3\n"
     ]
    },
    {
     "name": "stderr",
     "output_type": "stream",
     "text": [
      "                                                                        \r"
     ]
    },
    {
     "name": "stdout",
     "output_type": "stream",
     "text": [
      "MoviePy - Done.\n",
      "Moviepy - Writing video C:\\Users\\simil\\Videos\\obs recordings\\sped_up_video_with_audio.mp4\n",
      "\n"
     ]
    },
    {
     "name": "stderr",
     "output_type": "stream",
     "text": [
      "                                                                  \r"
     ]
    },
    {
     "name": "stdout",
     "output_type": "stream",
     "text": [
      "Moviepy - Done !\n",
      "Moviepy - video ready C:\\Users\\simil\\Videos\\obs recordings\\sped_up_video_with_audio.mp4\n"
     ]
    }
   ],
   "source": [
    "from moviepy.editor import VideoFileClip, AudioFileClip\n",
    "\n",
    "def add_audio_to_video(video_file_path, audio_file_path, output_file_path):\n",
    "    \"\"\"\n",
    "    Adds audio to a video, handling short and long audio clips.\n",
    "\n",
    "    Args:\n",
    "        video_file_path (str): Path to the input video file.\n",
    "        audio_file_path (str): Path to the input audio file.\n",
    "        output_file_path (str): Path to the output video file.\n",
    "    \"\"\"\n",
    "\n",
    "    # Load the video and audio clips\n",
    "    video_clip = VideoFileClip(video_file_path)\n",
    "    audio_clip = AudioFileClip(audio_file_path)\n",
    "\n",
    "    # Calculate the duration difference\n",
    "    duration_diff = video_clip.duration - audio_clip.duration\n",
    "\n",
    "    # If audio is shorter, loop it to match the video duration\n",
    "    if duration_diff > 0:\n",
    "        audio_clip = audio_clip.loop(int(duration_diff / audio_clip.duration) + 1)\n",
    "\n",
    "    # If audio is longer, trim it to match the video duration\n",
    "    elif duration_diff < 0:\n",
    "        audio_clip = audio_clip.subclip(0, video_clip.duration)\n",
    "\n",
    "    # Set the audio of the video clip\n",
    "    final_clip = video_clip.set_audio(audio_clip)\n",
    "\n",
    "    # Write the final video clip to a file\n",
    "    final_clip.write_videofile(output_file_path)\n",
    "\n",
    "# Example usage:\n",
    "video_file =  \"C:\\\\Users\\\\simil\\\\Videos\\\\obs recordings\\\\sped_up_video.mp4\"\n",
    "audio_file = \"C:\\\\Users\\\\simil\\\\Videos\\\\obs recordings\\\\audio.mp3\"\n",
    "output_file =  \"C:\\\\Users\\\\simil\\\\Videos\\\\obs recordings\\\\sped_up_video_with_audio.mp4\"\n",
    "\n",
    "add_audio_to_video(video_file, audio_file, output_file)"
   ]
  }
 ],
 "metadata": {
  "kernelspec": {
   "display_name": "Python 3 (ipykernel)",
   "language": "python",
   "name": "python3"
  },
  "language_info": {
   "codemirror_mode": {
    "name": "ipython",
    "version": 3
   },
   "file_extension": ".py",
   "mimetype": "text/x-python",
   "name": "python",
   "nbconvert_exporter": "python",
   "pygments_lexer": "ipython3",
   "version": "3.12.7"
  }
 },
 "nbformat": 4,
 "nbformat_minor": 5
}
